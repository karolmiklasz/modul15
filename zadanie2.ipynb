{
 "cells": [
  {
   "cell_type": "code",
   "execution_count": null,
   "id": "518617db-1670-4d56-9d9f-484dfff79ee2",
   "metadata": {},
   "outputs": [],
   "source": [
    "import pandas as pd\n",
    "import matplotlib.pyplot as plt\n",
    "\n",
    "prices_pln = [\n",
    "    (1, 2.12),\n",
    "    (2, 2.56),\n",
    "    (3, 3.10),\n",
    "    (4, 3.16),\n",
    "    (5, 3.58),\n",
    "    (6, 5.12),\n",
    "    (7, 5.16),\n",
    "    (8, 5.20),\n",
    "    (9, 4.12),\n",
    "    (10, 4.10),\n",
    "    (11, 3.65),\n",
    "    (12, 4.25),\n",
    "]\n",
    "\n",
    "df = pd.DataFrame(prices_pln, columns=['month', 'pricePLN'])\n",
    "\n",
    "df.set_index('month', inplace=True)\n",
    "\n",
    "df['priceUSD'] = df['pricePLN'] / 4\n",
    "\n",
    "plt.figure(figsize=(10, 5))\n",
    "plt.plot(df.index, df['priceUSD'], 'r--') \n",
    "plt.title('Price of goods (USD)')\n",
    "plt.xlabel('Month')\n",
    "plt.ylabel('Price (USD)')\n",
    "plt.grid(True)\n",
    "plt.show()\n"
   ]
  }
 ],
 "metadata": {
  "kernelspec": {
   "display_name": "Python 3 (ipykernel)",
   "language": "python",
   "name": "python3"
  },
  "language_info": {
   "codemirror_mode": {
    "name": "ipython",
    "version": 3
   },
   "file_extension": ".py",
   "mimetype": "text/x-python",
   "name": "python",
   "nbconvert_exporter": "python",
   "pygments_lexer": "ipython3",
   "version": "3.11.6"
  }
 },
 "nbformat": 4,
 "nbformat_minor": 5
}
