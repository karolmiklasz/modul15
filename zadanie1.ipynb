{
 "cells": [
  {
   "cell_type": "code",
   "execution_count": null,
   "id": "81dc20de-c807-478b-bb31-81688c2652ad",
   "metadata": {},
   "outputs": [],
   "source": [
    "import plotly.graph_objects as go\n",
    "\n",
    "salaries = [\n",
    "    (\"Mark\", 1000),\n",
    "    (\"John\", 1500),\n",
    "    (\"Daniel\", 2300),\n",
    "    (\"Greg\", 5000)\n",
    "]\n",
    "\n",
    "names = list(map(lambda tup: tup[0], salaries))\n",
    "salary_values = list(map(lambda tup: tup[1], salaries))\n",
    "\n",
    "bar_chart = go.Bar(x=names, y=salary_values)\n",
    "\n",
    "fig = go.Figure(data=bar_chart)\n",
    "\n",
    "fig.update_layout(\n",
    "    title='Zarobki przedstawione za pomocą Plotly',\n",
    "    xaxis_title='Imiona',\n",
    "    yaxis_title='Zarobki',\n",
    "    yaxis=dict(range=[0, max(salary_values) + 1000]) \n",
    ")\n",
    "\n",
    "fig.show()\n"
   ]
  }
 ],
 "metadata": {
  "kernelspec": {
   "display_name": "Python 3 (ipykernel)",
   "language": "python",
   "name": "python3"
  },
  "language_info": {
   "codemirror_mode": {
    "name": "ipython",
    "version": 3
   },
   "file_extension": ".py",
   "mimetype": "text/x-python",
   "name": "python",
   "nbconvert_exporter": "python",
   "pygments_lexer": "ipython3",
   "version": "3.11.6"
  }
 },
 "nbformat": 4,
 "nbformat_minor": 5
}
