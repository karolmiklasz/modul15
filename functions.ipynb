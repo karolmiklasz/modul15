{
 "cells": [
  {
   "cell_type": "markdown",
   "id": "c0f398a3-9f3a-4fb1-9df6-4406744d7daf",
   "metadata": {},
   "source": [
    "# Creating Functions in Python\r\n",
    "\r\n",
    "In Python, we create functions using the `def` keyword followed by the function name and parentheses `()`.\r\n",
    "The arguments of the function are placed inside these parentheses.\r\n",
    "The code block within every function starts with a colon `:` and is indented."
   ]
  },
  {
   "cell_type": "code",
   "execution_count": 2,
   "id": "4859ddbe-bce8-48d3-a570-77eeaea7e5ec",
   "metadata": {},
   "outputs": [],
   "source": [
    "# Function to add two numbers\n",
    "def add_numbers(a, b):\n",
    "    return a + b"
   ]
  },
  {
   "cell_type": "markdown",
   "id": "7f22c4fd-35fa-4888-acd4-7973ef4a13c8",
   "metadata": {},
   "source": [
    "## Calling Functions in Python\r\n",
    "\r\n",
    "To call a function, we simply use the function name followed by parentheses.\r\n",
    "We pass the arguments inside the parentheses."
   ]
  },
  {
   "cell_type": "code",
   "execution_count": 3,
   "id": "a633195f-8fe1-4293-a535-18824ba7f3d2",
   "metadata": {},
   "outputs": [
    {
     "name": "stdout",
     "output_type": "stream",
     "text": [
      "The result of adding 10 and 15 is 25\n"
     ]
    }
   ],
   "source": [
    "# Example of calling the function\n",
    "result = add_numbers(10, 15)\n",
    "print(f\"The result of adding 10 and 15 is {result}\")"
   ]
  }
 ],
 "metadata": {
  "kernelspec": {
   "display_name": "Python 3 (ipykernel)",
   "language": "python",
   "name": "python3"
  },
  "language_info": {
   "codemirror_mode": {
    "name": "ipython",
    "version": 3
   },
   "file_extension": ".py",
   "mimetype": "text/x-python",
   "name": "python",
   "nbconvert_exporter": "python",
   "pygments_lexer": "ipython3",
   "version": "3.11.6"
  }
 },
 "nbformat": 4,
 "nbformat_minor": 5
}
